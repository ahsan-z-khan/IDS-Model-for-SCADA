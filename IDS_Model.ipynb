{
  "nbformat": 4,
  "nbformat_minor": 0,
  "metadata": {
    "colab": {
      "name": "IDS Model.ipynb",
      "version": "0.3.2",
      "provenance": [],
      "collapsed_sections": [],
      "include_colab_link": true
    },
    "kernelspec": {
      "name": "python3",
      "display_name": "Python 3"
    }
  },
  "cells": [
    {
      "cell_type": "markdown",
      "metadata": {
        "id": "view-in-github",
        "colab_type": "text"
      },
      "source": [
        "<a href=\"https://colab.research.google.com/github/ahsan-z-khan/IDS-Model-for-SCADA/blob/master/IDS_Model.ipynb\" target=\"_parent\"><img src=\"https://colab.research.google.com/assets/colab-badge.svg\" alt=\"Open In Colab\"/></a>"
      ]
    },
    {
      "cell_type": "markdown",
      "metadata": {
        "id": "6zQtVqvQjgaQ",
        "colab_type": "text"
      },
      "source": [
        "## **Intrusion detection model using Machine Learning to classify SCADA network vulnerablities on a gas pipeline Dataset.**"
      ]
    },
    {
      "cell_type": "code",
      "metadata": {
        "id": "rbx5B_CzjtZ1",
        "colab_type": "code",
        "colab": {}
      },
      "source": [
        "#Importing required libraries \n",
        "from datetime import datetime\n",
        "import numpy as np\n",
        "import pandas as pd\n",
        "import seaborn as sns\n",
        "import matplotlib as plt\n",
        "from sklearn.model_selection import train_test_split\n",
        "from sklearn.metrics import accuracy_score\n",
        "from sklearn.ensemble import RandomForestRegressor"
      ],
      "execution_count": 0,
      "outputs": []
    },
    {
      "cell_type": "code",
      "metadata": {
        "id": "slTgZXQ3-87B",
        "colab_type": "code",
        "outputId": "6f46aff4-d59b-4b20-a869-d587c07a603a",
        "colab": {
          "base_uri": "https://localhost:8080/",
          "height": 54
        }
      },
      "source": [
        "#Initializing Google Drive\n",
        "\n",
        "from google.colab import drive\n",
        "drive.mount('/content/gdrive')"
      ],
      "execution_count": 0,
      "outputs": [
        {
          "output_type": "stream",
          "text": [
            "Drive already mounted at /content/gdrive; to attempt to forcibly remount, call drive.mount(\"/content/gdrive\", force_remount=True).\n"
          ],
          "name": "stdout"
        }
      ]
    },
    {
      "cell_type": "code",
      "metadata": {
        "id": "hIJ9-_VJjiUo",
        "colab_type": "code",
        "colab": {}
      },
      "source": [
        "#Importing the Dataset\n",
        "dataset = pd.read_csv('gdrive/My Drive/IDS/Dataset/MainDataset.csv')\n",
        "dataset = dataset.replace('?',np.nan)\n",
        "\n",
        "#Setting the label\n",
        "\n",
        "binL = dataset['binary']\n",
        "catL = dataset['categorized']\n",
        "speL = dataset['specified']\n",
        "\n",
        "#dataWOlabel = dataset['address','function','length','setpoint','gain','reset rate','deadband','cycle time','rate','system mode','control scheme','pump','solenoid','pressure measurement','crc rate','command response','time']\n",
        "\n",
        "#Setting the features\n",
        "\n",
        "data = dataset.drop(['binary','categorized','specified'], axis = 1)\n",
        "\n",
        "#Extracting the Command and Response Payload\n",
        "\n",
        "cPayload = data[['setpoint','gain','reset rate','deadband','cycle time','rate','system mode','control scheme','pump','solenoid']]\n",
        "rPayload = data['pressure measurement']\n"
      ],
      "execution_count": 0,
      "outputs": []
    },
    {
      "cell_type": "markdown",
      "metadata": {
        "id": "twVkcbObBBAs",
        "colab_type": "text"
      },
      "source": [
        ""
      ]
    },
    {
      "cell_type": "code",
      "metadata": {
        "id": "ZKkkabxoXrZJ",
        "colab_type": "code",
        "outputId": "183024d6-4cd8-41f6-eb7d-c6b16e14857f",
        "colab": {
          "base_uri": "https://localhost:8080/",
          "height": 190
        }
      },
      "source": [
        "#Preprocessing the dataset with Mean Value Imputation\n",
        "\n",
        "cPayload.describe()"
      ],
      "execution_count": 0,
      "outputs": [
        {
          "output_type": "execute_result",
          "data": {
            "text/html": [
              "<div>\n",
              "<style scoped>\n",
              "    .dataframe tbody tr th:only-of-type {\n",
              "        vertical-align: middle;\n",
              "    }\n",
              "\n",
              "    .dataframe tbody tr th {\n",
              "        vertical-align: top;\n",
              "    }\n",
              "\n",
              "    .dataframe thead th {\n",
              "        text-align: right;\n",
              "    }\n",
              "</style>\n",
              "<table border=\"1\" class=\"dataframe\">\n",
              "  <thead>\n",
              "    <tr style=\"text-align: right;\">\n",
              "      <th></th>\n",
              "      <th>setpoint</th>\n",
              "      <th>gain</th>\n",
              "      <th>reset rate</th>\n",
              "      <th>deadband</th>\n",
              "      <th>cycle time</th>\n",
              "      <th>rate</th>\n",
              "      <th>system mode</th>\n",
              "      <th>control scheme</th>\n",
              "      <th>pump</th>\n",
              "      <th>solenoid</th>\n",
              "    </tr>\n",
              "  </thead>\n",
              "  <tbody>\n",
              "    <tr>\n",
              "      <th>count</th>\n",
              "      <td>64100</td>\n",
              "      <td>64100</td>\n",
              "      <td>64100</td>\n",
              "      <td>64100</td>\n",
              "      <td>64100</td>\n",
              "      <td>64100</td>\n",
              "      <td>64100</td>\n",
              "      <td>64100</td>\n",
              "      <td>64100</td>\n",
              "      <td>64100</td>\n",
              "    </tr>\n",
              "    <tr>\n",
              "      <th>unique</th>\n",
              "      <td>541</td>\n",
              "      <td>16</td>\n",
              "      <td>1902</td>\n",
              "      <td>855</td>\n",
              "      <td>162</td>\n",
              "      <td>956</td>\n",
              "      <td>3</td>\n",
              "      <td>2</td>\n",
              "      <td>2</td>\n",
              "      <td>2</td>\n",
              "    </tr>\n",
              "    <tr>\n",
              "      <th>top</th>\n",
              "      <td>10.4</td>\n",
              "      <td>113</td>\n",
              "      <td>0.3505</td>\n",
              "      <td>0.79</td>\n",
              "      <td>1.26</td>\n",
              "      <td>0</td>\n",
              "      <td>0</td>\n",
              "      <td>1</td>\n",
              "      <td>0</td>\n",
              "      <td>0</td>\n",
              "    </tr>\n",
              "    <tr>\n",
              "      <th>freq</th>\n",
              "      <td>1144</td>\n",
              "      <td>8548</td>\n",
              "      <td>759</td>\n",
              "      <td>2637</td>\n",
              "      <td>19642</td>\n",
              "      <td>62445</td>\n",
              "      <td>44853</td>\n",
              "      <td>42148</td>\n",
              "      <td>43702</td>\n",
              "      <td>34537</td>\n",
              "    </tr>\n",
              "  </tbody>\n",
              "</table>\n",
              "</div>"
            ],
            "text/plain": [
              "       setpoint   gain reset rate  ... control scheme   pump solenoid\n",
              "count     64100  64100      64100  ...          64100  64100    64100\n",
              "unique      541     16       1902  ...              2      2        2\n",
              "top        10.4    113     0.3505  ...              1      0        0\n",
              "freq       1144   8548        759  ...          42148  43702    34537\n",
              "\n",
              "[4 rows x 10 columns]"
            ]
          },
          "metadata": {
            "tags": []
          },
          "execution_count": 18
        }
      ]
    },
    {
      "cell_type": "code",
      "metadata": {
        "id": "MDpBxI0OxOZO",
        "colab_type": "code",
        "outputId": "05a37c11-9194-419f-f503-18034bc9ba00",
        "colab": {
          "base_uri": "https://localhost:8080/",
          "height": 1105
        }
      },
      "source": [
        "\n"
      ],
      "execution_count": 0,
      "outputs": [
        {
          "output_type": "stream",
          "text": [
            "       setpoint gain reset rate  ... control scheme pump solenoid\n",
            "0           NaN  NaN        NaN  ...            NaN  NaN      NaN\n",
            "1           NaN  NaN        NaN  ...            NaN  NaN      NaN\n",
            "3           NaN  NaN        NaN  ...            NaN  NaN      NaN\n",
            "4           NaN  NaN        NaN  ...            NaN  NaN      NaN\n",
            "5           NaN  NaN        NaN  ...            NaN  NaN      NaN\n",
            "7           NaN  NaN        NaN  ...            NaN  NaN      NaN\n",
            "8           NaN  NaN        NaN  ...            NaN  NaN      NaN\n",
            "9           NaN  NaN        NaN  ...            NaN  NaN      NaN\n",
            "11          NaN  NaN        NaN  ...            NaN  NaN      NaN\n",
            "12          NaN  NaN        NaN  ...            NaN  NaN      NaN\n",
            "13          NaN  NaN        NaN  ...            NaN  NaN      NaN\n",
            "15          NaN  NaN        NaN  ...            NaN  NaN      NaN\n",
            "16          NaN  NaN        NaN  ...            NaN  NaN      NaN\n",
            "17          NaN  NaN        NaN  ...            NaN  NaN      NaN\n",
            "19          NaN  NaN        NaN  ...            NaN  NaN      NaN\n",
            "20          NaN  NaN        NaN  ...            NaN  NaN      NaN\n",
            "21          NaN  NaN        NaN  ...            NaN  NaN      NaN\n",
            "23          NaN  NaN        NaN  ...            NaN  NaN      NaN\n",
            "24          NaN  NaN        NaN  ...            NaN  NaN      NaN\n",
            "25          NaN  NaN        NaN  ...            NaN  NaN      NaN\n",
            "27          NaN  NaN        NaN  ...            NaN  NaN      NaN\n",
            "28          NaN  NaN        NaN  ...            NaN  NaN      NaN\n",
            "29          NaN  NaN        NaN  ...            NaN  NaN      NaN\n",
            "31          NaN  NaN        NaN  ...            NaN  NaN      NaN\n",
            "32          NaN  NaN        NaN  ...            NaN  NaN      NaN\n",
            "33          NaN  NaN        NaN  ...            NaN  NaN      NaN\n",
            "35          NaN  NaN        NaN  ...            NaN  NaN      NaN\n",
            "36          NaN  NaN        NaN  ...            NaN  NaN      NaN\n",
            "37          NaN  NaN        NaN  ...            NaN  NaN      NaN\n",
            "39          NaN  NaN        NaN  ...            NaN  NaN      NaN\n",
            "...         ...  ...        ...  ...            ...  ...      ...\n",
            "274589      NaN  NaN        NaN  ...            NaN  NaN      NaN\n",
            "274590      NaN  NaN        NaN  ...            NaN  NaN      NaN\n",
            "274591      NaN  NaN        NaN  ...            NaN  NaN      NaN\n",
            "274593      NaN  NaN        NaN  ...            NaN  NaN      NaN\n",
            "274594      NaN  NaN        NaN  ...            NaN  NaN      NaN\n",
            "274595      NaN  NaN        NaN  ...            NaN  NaN      NaN\n",
            "274597      NaN  NaN        NaN  ...            NaN  NaN      NaN\n",
            "274598      NaN  NaN        NaN  ...            NaN  NaN      NaN\n",
            "274599      NaN  NaN        NaN  ...            NaN  NaN      NaN\n",
            "274601      NaN  NaN        NaN  ...            NaN  NaN      NaN\n",
            "274602      NaN  NaN        NaN  ...            NaN  NaN      NaN\n",
            "274603      NaN  NaN        NaN  ...            NaN  NaN      NaN\n",
            "274605      NaN  NaN        NaN  ...            NaN  NaN      NaN\n",
            "274606      NaN  NaN        NaN  ...            NaN  NaN      NaN\n",
            "274607      NaN  NaN        NaN  ...            NaN  NaN      NaN\n",
            "274609      NaN  NaN        NaN  ...            NaN  NaN      NaN\n",
            "274610      NaN  NaN        NaN  ...            NaN  NaN      NaN\n",
            "274611      NaN  NaN        NaN  ...            NaN  NaN      NaN\n",
            "274613      NaN  NaN        NaN  ...            NaN  NaN      NaN\n",
            "274614      NaN  NaN        NaN  ...            NaN  NaN      NaN\n",
            "274615      NaN  NaN        NaN  ...            NaN  NaN      NaN\n",
            "274617      NaN  NaN        NaN  ...            NaN  NaN      NaN\n",
            "274618      NaN  NaN        NaN  ...            NaN  NaN      NaN\n",
            "274619      NaN  NaN        NaN  ...            NaN  NaN      NaN\n",
            "274621      NaN  NaN        NaN  ...            NaN  NaN      NaN\n",
            "274622      NaN  NaN        NaN  ...            NaN  NaN      NaN\n",
            "274623      NaN  NaN        NaN  ...            NaN  NaN      NaN\n",
            "274625      NaN  NaN        NaN  ...            NaN  NaN      NaN\n",
            "274626      NaN  NaN        NaN  ...            NaN  NaN      NaN\n",
            "274627      NaN  NaN        NaN  ...            NaN  NaN      NaN\n",
            "\n",
            "[210528 rows x 10 columns]\n"
          ],
          "name": "stdout"
        }
      ]
    },
    {
      "cell_type": "code",
      "metadata": {
        "id": "Ssp75tTJ9OEd",
        "colab_type": "code",
        "outputId": "3101be59-ad8b-4610-d560-c945670bc3e8",
        "colab": {
          "base_uri": "https://localhost:8080/",
          "height": 34
        }
      },
      "source": [
        " m# Generating New feature representing time difference between each packet\n",
        "\n",
        "time = data[:,16]\n",
        "\n",
        "timeDiff = [0] \n",
        "\n",
        "for i in range(1,len(time)):\n",
        "  now = datetime.utcfromtimestamp(time[i-1])\n",
        "  later = datetime.utcfromtimestamp(time[i])\n",
        "  timeDiff.append(int((later - now).total_seconds()))\n",
        "\n",
        "\n",
        "data[:,16] = timeDiff\n",
        "\n",
        "print(data[:,16])\n"
      ],
      "execution_count": 0,
      "outputs": [
        {
          "output_type": "stream",
          "text": [
            "[0 0 2 ... 0 2 0]\n"
          ],
          "name": "stdout"
        }
      ]
    },
    {
      "cell_type": "code",
      "metadata": {
        "id": "rpKu2rRovIyp",
        "colab_type": "code",
        "outputId": "f6870121-9287-4dd9-db01-c1b31a7e922b",
        "colab": {
          "base_uri": "https://localhost:8080/",
          "height": 130
        }
      },
      "source": [
        "#Splitting data into training set, validation set and test set\n",
        "\n",
        "X_train, X_test, y_train, y_test = train_test_split(X, y, test_size=0.2, random_state=1)\n",
        "\n",
        "X_train, X_val, y_train, y_val = train_test_split(X_train, y_train, test_size=0.25, random_state=1)"
      ],
      "execution_count": 0,
      "outputs": [
        {
          "output_type": "error",
          "ename": "IndentationError",
          "evalue": "ignored",
          "traceback": [
            "\u001b[0;36m  File \u001b[0;32m\"<ipython-input-1-ad3afca65809>\"\u001b[0;36m, line \u001b[0;32m2\u001b[0m\n\u001b[0;31m    = train_test_split(X, y, test_size=0.2, random_state=1)\u001b[0m\n\u001b[0m    ^\u001b[0m\n\u001b[0;31mIndentationError\u001b[0m\u001b[0;31m:\u001b[0m unexpected indent\n"
          ]
        }
      ]
    },
    {
      "cell_type": "code",
      "metadata": {
        "id": "Z5-rJKAxvMf2",
        "colab_type": "code",
        "colab": {}
      },
      "source": [
        ""
      ],
      "execution_count": 0,
      "outputs": []
    },
    {
      "cell_type": "code",
      "metadata": {
        "id": "nyV2xv-CB1wo",
        "colab_type": "code",
        "colab": {}
      },
      "source": [
        ""
      ],
      "execution_count": 0,
      "outputs": []
    }
  ]
}